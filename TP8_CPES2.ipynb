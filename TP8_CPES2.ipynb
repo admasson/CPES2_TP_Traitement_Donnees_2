{
 "cells": [
  {
   "cell_type": "markdown",
   "id": "fc1e1fb3-10a3-474a-9c32-490bdd0e9848",
   "metadata": {
    "tags": []
   },
   "source": [
    "# **CPES 2 : TP8 - Traitement de données spectroscopiques**\n",
    "\n",
    "*Année 2022-2023*\n",
    "\n",
    "**Noms :**\n",
    "\n",
    "**Prénoms :**\n",
    "\n",
    "***"
   ]
  },
  {
   "cell_type": "markdown",
   "id": "e87b0586-32e7-4286-a4c0-5da1bb36a881",
   "metadata": {
    "tags": []
   },
   "source": [
    "## **1 - Objectif**\n"
   ]
  },
  {
   "cell_type": "markdown",
   "id": "371f37a2-d53a-44ca-a486-f931ffc4ff15",
   "metadata": {},
   "source": [
    "\n",
    "Le but de cette séance est d’étudier des spectres observés d’étoiles et de planètes.\n",
    "\n",
    "<font color='red'> **Ce notebook fait office de compte-rendu. Vous compléterez le code et rédigerez vos réponses directement dessus, afin de rendre un notebook par groupe à la fin de la séance.**\n",
    "    \n",
    "<font color='red'> **Pensez à renommer le nom de ce notebook avec vos noms et prénoms sous la forme : NOM_PRENOM_TP8_CPES2.ipynb**\n",
    "\n",
    "Ne pas hésiter à ouvrir votre notebook de la séance précédente afin de vous aider !\n"
   ]
  },
  {
   "cell_type": "markdown",
   "id": "97429a63-e460-45cf-9a6d-2a791ffb6c59",
   "metadata": {},
   "source": [
    "***"
   ]
  },
  {
   "cell_type": "markdown",
   "id": "e245afa9-bd5a-4f6d-a9ca-b814946a8a74",
   "metadata": {
    "tags": []
   },
   "source": [
    "## **2 - Qualité des données obtenues**\n"
   ]
  },
  {
   "cell_type": "markdown",
   "id": "55ab2dd3-688b-452e-880a-d6ed1c766a01",
   "metadata": {
    "tags": []
   },
   "source": [
    "### **2.1 - Chargement des librairies python**"
   ]
  },
  {
   "cell_type": "markdown",
   "id": "67aef4f5-4a2e-4e2d-bc60-359bec8e70db",
   "metadata": {},
   "source": [
    "La première étape consiste à charger les différents modules python dont nous aurons besoin tout au long de ce TP :\n",
    "- *os* (https://docs.python.org/3/library/os.html) dispose d'outils pour naviguer dans le système et lister les fichiers d'un dossier de l'ordinateur\n",
    "- *numpy* (https://numpy.org/doc/stable/) permet de manipuler des tableaux de données à plusieurs dimensions et d'effectuer toute sorte d'opérations (sommes, multiplications matricielle, moyennes...)\n",
    "- *scipy* (https://scipy.org/) ajout de nombreux outils mathématiques pour les applications scientifiques\n",
    "- *matplotib* (https://matplotlib.org/stable/index.html) offre un large panel d'outils permettant de visualiser les données et de produire des graphiques\n",
    "- *astropy* (https://docs.astropy.org/en/stable/index.html) est une librairie dédiée à l'astronomie et l'astrophysique et contient une multitude d'outils pratiques pour le traitement des données. Nous utilisons surtout ici la fonction de lecture des fichiers au format FITS.\n",
    "\n",
    "Note : ne pas hésiter à consulter la documentation de ces différents modules en cas de besoin. De nombreux exemples d'utilisation y sont présentés."
   ]
  },
  {
   "cell_type": "code",
   "execution_count": null,
   "id": "0503b5d6-77b0-4dc0-aec9-01738aa9f3e1",
   "metadata": {},
   "outputs": [],
   "source": [
    "# Importation des modules\n",
    "import os\n",
    "import numpy as np               # on peut renommer un module avec une variable plus courte avec le mot clé \"as\"\n",
    "import matplotlib.pyplot as plt  \n",
    "import ipywidgets as wdg         # ipython notebook widgets\n",
    "\n",
    "from astropy.io import fits      # \"from\" permet de ne charger que le sous-module \"fits\" de la librairie \"astropy\" afin de ne pas encombrer inutilement la mémoire\n",
    "from scipy.interpolate import interp1d\n",
    "from matplotlib.widgets import Cursor\n",
    "from scipy.optimize import curve_fit\n",
    "\n",
    "# commande \"%magic\" pour utiliser le backend \"widget\" de matplotlib permettant d'avoir les outils interactifs (tels que le zoom) sur les figures\n",
    "%matplotlib widget               "
   ]
  },
  {
   "cell_type": "markdown",
   "id": "9d4c30b1-096e-4755-b403-1157f2583203",
   "metadata": {},
   "source": [
    "Dans Jupyter Lab, une commande très utile est le **?** : placé derrière une commande, il permet d'accéder rapidement à sa documentation pour savoir comment l'utiliser. Exemple avec la fonction *print( )* :"
   ]
  },
  {
   "cell_type": "code",
   "execution_count": null,
   "id": "7b280269-cee3-42ae-a86a-62e12caae512",
   "metadata": {},
   "outputs": [],
   "source": [
    "print?"
   ]
  },
  {
   "cell_type": "markdown",
   "id": "36a09344-feda-45da-bca5-f0cd4b530435",
   "metadata": {},
   "source": [
    "<br>Il suffit donc de créer une nouvelle cellule, et d'écrire le nom de la fonction en remplaçant les parenthèse **( )** par le point d'interrogation **?** pour obtenir des informations sur l'utilisation de la fonction."
   ]
  },
  {
   "cell_type": "markdown",
   "id": "3e640b72-ca74-460c-a7ea-2e0870db03b9",
   "metadata": {
    "tags": []
   },
   "source": [
    "### **2.2 - Vérification des données**"
   ]
  },
  {
   "cell_type": "markdown",
   "id": "347c48a7-1576-4a0e-bf9e-92840247b447",
   "metadata": {},
   "source": [
    "Nous commençons par charger nos données de la même façon que lors du TP précédent :"
   ]
  },
  {
   "cell_type": "code",
   "execution_count": null,
   "id": "b415cd8e-e41e-4a5e-a12a-3f3a912c2772",
   "metadata": {
    "tags": []
   },
   "outputs": [],
   "source": [
    "# récupération de la liste de fichiers dans le répertoir \"./Data_TP_CPES2/Donnees/\" :\n",
    "path = './Data_TP_CPES2/Donnees/'\n",
    "file_list = os.listdir(path)\n",
    "\n",
    "# chargement des fichiers fits dans un dictionnaire\n",
    "donnees = {}\n",
    "for file_name in file_list:\n",
    "    try:\n",
    "        current_fits = fits.open(path+file_name)[0] # fits.open() renvoie une list de tableaux de données (appelés \"HDU\") contenus dans le fichier FITS. Ici nos fichiers ne contiennent qu'un seul HDU, que l'on sélectionne avec l'indice [0]\n",
    "        donnees[file_name] = current_fits           # on stock ici le fichier .fits chargé dans un dictionnaire afin d'y accéder plus facilement par la suite en utilisant le nom du fichier d'origine\n",
    "        print(f'{file_name:<80} has been loaded !')\n",
    "    except Exception as e:                          # En cas d'echec de chargement du fichier, la structure try:... except:... permet d'empêcher au code de planter en affichant l'erreur et en passant au fichier suivant (par exemple si le fichier n'est pas au format .fits)\n",
    "        print(f'Can\\'t load {file_name:<69} {e}')"
   ]
  },
  {
   "cell_type": "markdown",
   "id": "ddf6e7d4-5e1a-489f-880a-97de4f610d86",
   "metadata": {},
   "source": [
    "***"
   ]
  },
  {
   "cell_type": "markdown",
   "id": "a786b8e6-9d2f-4254-9435-1077ed5b0bce",
   "metadata": {},
   "source": [
    "**Bref rappel de la séance précédente :**\n",
    "\n",
    "On rappelle que grâce à cette méthode de chargement des données, tous les spectres sont accessibles via leur nom dans le dictionnaire *données*. Par exemple pour charger les données des fichiers \"dark_10s_1.fits\" et \"dark_10s_2.fits\", on peut utiliser la commande suivante :\n",
    "```python\n",
    "dark_10s_1 = donnees['dark_10s_3.fits'].data # le .data permet de récupérer les données\n",
    "dark_10s_2 = donnees['dark_10s_3.fits'].data\n",
    "```\n",
    "\n",
    "On peut alors effectuer des opérations avec ces variables, calculer une moyenne par exemple :\n",
    "```python\n",
    "dark_moy_10s = (dark_10s_1 + dark_10s_2) / 2\n",
    "```\n",
    "\n",
    "On peut consulter le header d'un fichier de la façon suivante :\n",
    "```python\n",
    "print(donnees['dark_10s_1.fits'].header)\n",
    "```\n",
    "\n",
    "Enfin, on peut sauvegarder un spectre dans un fichier au format \".dat\" de la façon suivante :\n",
    "```python\n",
    "name = \"nom_du_fichier.dat\"\n",
    "np.savetxt(name,dark_moy_10s)\n",
    "print(f'{name} a bien été sauvegardé !')\n",
    "```"
   ]
  },
  {
   "cell_type": "markdown",
   "id": "ff5e7be5-6228-4321-8b24-964b09b4f2eb",
   "metadata": {},
   "source": [
    "***"
   ]
  },
  {
   "cell_type": "markdown",
   "id": "698cb5b9-bb93-434a-a03b-eb15538e7a2a",
   "metadata": {},
   "source": [
    "**Dans une démarche scientifique impliquant des mesures, l’une des premières choses à faire est de s’interroger sur la qualité des données, leur étalonnage, etc. Dans un premier temps, nous allons vérifier la qualité des étalonnages en longueur d’onde des données en prenant pour exemple le premier spectre de Sirius (sirius_2s_1).**"
   ]
  },
  {
   "cell_type": "markdown",
   "id": "16649170-03e9-41e8-b529-7cd32dd8f2d8",
   "metadata": {
    "tags": []
   },
   "source": [
    "##### **Question 1 :**\n",
    "À partir des trois darks disponibles associés au même temps de pose que sirius, réalisez un master dark. Détaillez les opérations que vous réalisez pour cela. Vous nommerez la variable \"master_dark_2s\" et enregistrez le résultat dans un fichier \"nom_prenom_Q1_MASTER_DARK.dat\"."
   ]
  },
  {
   "cell_type": "code",
   "execution_count": null,
   "id": "7a1b9184-254a-4ee6-9232-89f9b26e223a",
   "metadata": {},
   "outputs": [],
   "source": [
    "# CODE A COMPLETER\n"
   ]
  },
  {
   "cell_type": "markdown",
   "id": "e690edbd-97a7-4076-92e5-8bd452ae3b32",
   "metadata": {
    "tags": []
   },
   "source": [
    "> <font color='blue'> Répondre ici :"
   ]
  },
  {
   "cell_type": "markdown",
   "id": "45920df2-20aa-4202-9bcf-6f6736151130",
   "metadata": {
    "tags": []
   },
   "source": [
    "##### **Question 2 :**\n",
    "Soustrayez le master dark au spectre de Sirius que vous avez chargé. **Stockez le résultat dans une variable \"sirius_q2\"** et enregistrez le résultat dans un fichier \"nom_prenom_Q2_SIRIUS_.dat\"."
   ]
  },
  {
   "cell_type": "code",
   "execution_count": null,
   "id": "209976fd-a374-49f8-a253-cc83a4173123",
   "metadata": {},
   "outputs": [],
   "source": [
    "# CODE A COMPLETER\n"
   ]
  },
  {
   "cell_type": "markdown",
   "id": "bfa46106-3c37-4dbb-a3ee-c8abc7eae174",
   "metadata": {
    "tags": []
   },
   "source": [
    "##### **Question 3 :**\n",
    "Le fichier de raies \"PSL.ids\" dans le dossier \"Raies\" contient les éléments les plus communs pour les étoiles. Le code ci-dessous permet de superposer un spectre d'étoile avec ce fichier de raies de référence. \n",
    "\n",
    "Executez simplement les deux cellules ci-dessous, puis identifiez dans la figure les raies plus importantes et déterminez quel élément est prépondérant dans l’atmosphère de Sirius. Les données sont-elles bien étalonnées ?"
   ]
  },
  {
   "cell_type": "code",
   "execution_count": null,
   "id": "37af4fdb-3e7c-47cc-ba1d-b6d805253b50",
   "metadata": {},
   "outputs": [],
   "source": [
    "# lecture du fichier 'PSL.ids' et remplissage du dictionnaire\n",
    "raies_list = [] # liste contenant les raies du fichier 'PSL.ids' sous la forme ['element','position']\n",
    "with open('./Data_TP_CPES2/Raies/PSL.ids','r') as f:\n",
    "    for line in f.readlines()[10:]:\n",
    "        # skip 10 first lines\n",
    "        try:\n",
    "            elements = line.replace('\\t',' ').replace('*','').split(' ')\n",
    "            element_name = elements[-1].replace('\\n','')\n",
    "            element_pos  = float(elements[0])/10 # conversion des Angströms en nm\n",
    "            raies_list.append([element_name,element_pos]) \n",
    "        except Exception as e:\n",
    "            print(e)"
   ]
  },
  {
   "cell_type": "code",
   "execution_count": null,
   "id": "09c52ae6-7eb7-468e-b554-744bbc05f428",
   "metadata": {},
   "outputs": [],
   "source": [
    "# récupération des longueurs d'onde du spectre à partir du header\n",
    "lmin = float(donnees['Sirius_2s_1.fits'].header['CRVAL1']) # longueur d'onde du premier point en nm\n",
    "nb   = int(donnees['Sirius_2s_1.fits'].header['NAXIS1'])   # nombre de canaux d'échantillonnage\n",
    "step = float(donnees['Sirius_2s_1.fits'].header['CD1_1'])  # écart entre deux échantillon en nm\n",
    "\n",
    "wave = np.linspace(lmin,lmin+nb*step,nb)\n",
    "\n",
    "# Affichage du spectre de l'étoile et des position de raies\n",
    "plt.figure()\n",
    "plt.plot(wave,sirius_q2)\n",
    "\n",
    "for element,position in raies_list:\n",
    "    plt.vlines(position,sirius_q2.min(),sirius_q2.max(),color='k',lw=0.5)\n",
    "    plt.text(position,0,element,rotation=90)"
   ]
  },
  {
   "cell_type": "markdown",
   "id": "758e07da-94da-42d8-9c61-89a14b0cdda2",
   "metadata": {
    "tags": []
   },
   "source": [
    "> <font color='blue'> Répondre ici :"
   ]
  },
  {
   "cell_type": "markdown",
   "id": "bc835107-c0cf-49bd-a3d7-4228006f3be7",
   "metadata": {
    "tags": []
   },
   "source": [
    "## **3 - Réduction de vos données**"
   ]
  },
  {
   "cell_type": "markdown",
   "id": "cb1eac76-036b-4afe-8ac9-82520c93a468",
   "metadata": {
    "tags": []
   },
   "source": [
    "### **3.1 - Comparaison des spectres stellaires**"
   ]
  },
  {
   "cell_type": "markdown",
   "id": "c632a565-42e2-4ff1-a99d-ad0fa1596424",
   "metadata": {
    "tags": []
   },
   "source": [
    "##### **Question 4 :**\n",
    "Faites la réduction des données pour les étoiles Sirius, Tsih, Capella, Aldébaran et Bételgeuse, contenues dans la variable dictionnaire \"donnees\". Vous penserez bien à appliquer la méthode de\n",
    "traitement des données que vous avez appliquée au TP précédent :\n",
    "1. Création d’une moyenne des DARKS pour chaque temps de pose utilisé pour les spectres des étoiles (MASTER DARKS) et les FLATS\n",
    "2. Création du MASTER FLAT, c’est-à-dire la valeur normalisée à 1 sur tout le spectre de la moyenne des FLATS auquel on a soustrait une moyenne des DARKS enregistrés avec le même temps de pose que les FLATS\n",
    "3. Création d’une moyenne des spectres de l’étoile (MASTER ETOILE)\n",
    "4. Création du spectre traité = (MASTER ETOILE - MASTER DARK)/(MASTER FLAT)\n",
    "\n",
    "On aura ainsi autant de MASTER DARK que de temps de pose. Attention ainsi à soustraire pour chaque étoile le MASTER DARK correspondant à son temps de pose. N’oubliez pas d’enregistrer vos résultats (notamment MASTER FLAT et MASTER DARK). \n",
    "\n"
   ]
  },
  {
   "cell_type": "code",
   "execution_count": null,
   "id": "c3b37038-c27e-4f21-a65f-d463742ee530",
   "metadata": {},
   "outputs": [],
   "source": [
    "# CODE A COMPLETER : \n"
   ]
  },
  {
   "cell_type": "markdown",
   "id": "25edc527-2a37-46e0-b2ee-795163c77c98",
   "metadata": {},
   "source": [
    "**Complétez le code ci-dessous pour affichez les 5 spectres sur un même graphique. Faites en sorte qu’ils aient environ le même niveau en les normalisant par leur moyenne. Enregistrez ce graphique sous le nom nom_prenom_Q4_WIEN_ETOILES.png**\n",
    "\n",
    "Rappel : le code suivant permet d'ajouter un spectre à la figure :\n",
    "```python\n",
    "plt.plot(x,y,label='nom') # avec x et y les coordonnées des points, et \"nom\" le nom correspondant à afficher dans la légende\n",
    "```"
   ]
  },
  {
   "cell_type": "code",
   "execution_count": null,
   "id": "5d4cfa1f-5a4d-4312-a61e-076ac1197d56",
   "metadata": {},
   "outputs": [],
   "source": [
    "plt.figure()\n",
    "# CODE A COMPLETER\n",
    "\n",
    "#########################################\n",
    "\n",
    "plt.xlabel(f'$\\lambda$ [nm]')\n",
    "plt.ylabel(f'Flux')\n",
    "plt.legend()\n",
    "plt.title('Comparaison des spectres d\\'étoiles')"
   ]
  },
  {
   "cell_type": "markdown",
   "id": "e0b64494-56d9-4fb5-9622-fbcfd1f44bf7",
   "metadata": {},
   "source": [
    "<font color='red'>  **Faites valider l'allure de vos spectres par un encadrant avant de passer à la suite !!**"
   ]
  },
  {
   "cell_type": "markdown",
   "id": "9eff0575-a501-481f-b57a-f2f15afa99e2",
   "metadata": {
    "tags": []
   },
   "source": [
    "##### **Question 5 :**\n",
    "À partir des spectres de chaque étoile, identifiez λ max et calculez leurs températures $T_{Wien}$ en utilisant la loi de Wien. Décrivez bien votre méthode de calcul, et utilisez le tableau 1 ci-dessous pour résumer vos résultats (double-cliquez dessus afin de modifier les valeurs)."
   ]
  },
  {
   "cell_type": "markdown",
   "id": "0f727005-3c1e-4af8-9197-860ff354534d",
   "metadata": {
    "tags": []
   },
   "source": [
    "> <font color='blue'> Répondre ici :  \n",
    "    \n",
    "\n",
    "| Etoile                         | Tsih    | Sirius | Capella | Aldébaran | Bételgeuse |\n",
    "| ---                            | ---     | ---    | ---     | ---       | ---        |\n",
    "| $\\lambda _{max}$ (nm)          |         |        |         |           |            |\n",
    "| $T _{Wien}$ (K)                |         |        |         |           |            |\n",
    "    "
   ]
  },
  {
   "cell_type": "markdown",
   "id": "27b93392-43f9-4622-881d-e3c984312b33",
   "metadata": {
    "tags": []
   },
   "source": [
    "##### **Question 6 :**\n",
    "À l'aide de la table des types spectraux et des courbes de corps noir données ci-dessous, déterminez le type spectral de chaque étoile à partir de la température estimée pré\n",
    "cédemment. Entrez vos résultats dans la ligne 'type de spectre' du tableau ci-dessous."
   ]
  },
  {
   "cell_type": "markdown",
   "id": "6c985d04-e471-44fb-9967-22d63017758b",
   "metadata": {},
   "source": [
    "**Les types spectraux des étoiles en fonction de leur température.**\n",
    "\n",
    "![alt text](ressources/classe-spectrale-etoiles.jpg \"Les types spectraux des étoiles en fonction de leur température.\")\n",
    "\n",
    "Phrase mnémotechnique pour se souvenir des types spectraux : \" **O**h **B**e **A** **F**ine **G**irl/**G**uy,**K**iss **M**e\" !\n",
    "\n",
    "**Courbes de corps noir en fonction de la longueur d'onde pour plusieurs températures.**\n",
    "\n",
    "![alt text](ressources/Blackbody_emission.png \"Courbes de corps noir en fonction de la longueur d'onde pour plusieurs températures.\")\n"
   ]
  },
  {
   "cell_type": "markdown",
   "id": "2d0cfbde-c4b7-468c-a602-0a02e398c81b",
   "metadata": {
    "tags": []
   },
   "source": [
    "> <font color='blue'> Répondre ici :\n",
    "    \n",
    "\n",
    "| Etoile                         | Tsih    | Sirius | Capella | Aldébaran | Bételgeuse |\n",
    "| ---                            | ---     | ---    | ---     | ---       | ---        |\n",
    "| $\\lambda _{max}$ (nm)          |         |        |         |           |            |\n",
    "| $T _{Wien}$ (K)                |         |        |         |           |            |\n",
    "| Type de spectre                |         |        |         |           |            |\n",
    "    "
   ]
  },
  {
   "cell_type": "markdown",
   "id": "ff92ac80-6fdb-4e3a-8c51-aaf6dbfb9992",
   "metadata": {
    "tags": []
   },
   "source": [
    "##### **Question 7 :**\n",
    "Le code ci-dessous permet de comparer vos spectres à ceux des spectres typiques d'étoiles (dans le dossier \"Etoiles\"). Remplacez simplement \"aldebaran_normalise\" par l'un de vos spectres (et mettez à jour le \"Label\" pour que la légende corresponde) et relancez la cellule afin de comparer ce spectre avec les étoiles de référence.\n",
    "\n",
    "Faites la comparaison uniquement entre 400 et 800 nm, là ou le spectromètre PSL est utilisable. Déduisez-en une autre estimation de la température et du type spectral de l'étoile.\n",
    "Résumez vos résultats dans les lignes 'type de spectre (comparison)' et 'T est' du tableau ci-dessous."
   ]
  },
  {
   "cell_type": "code",
   "execution_count": null,
   "id": "b7ec2a29-84b3-4644-aef0-345e44f29c03",
   "metadata": {},
   "outputs": [],
   "source": [
    "plt.figure() \n",
    "\n",
    "# CODE A COMPLETER : affichage de l'un de vos spectres\n",
    "\n",
    "######################################################################################################################\n",
    "\n",
    "# étoiles de références (code déjà complet)\n",
    "ref_star_list = os.listdir('./Data_TP_CPES2/Etoiles/') # liste des fits \n",
    "for file in ref_star_list:\n",
    "    # chargement du fits\n",
    "    star = fits.open('./Data_TP_CPES2/Etoiles/'+file)[1]\n",
    "    spectra = star.data['FLUX']\n",
    "    spectra /= np.mean(spectra) # normalisation\n",
    "    star_wave = star.data['WAVELENGTH'] / 10 # convert to nm\n",
    "    # affichage\n",
    "    plt.plot(star_wave,spectra,label=file,lw=0.5)\n",
    "    \n",
    "plt.xlabel(f'$\\lambda$ [nm]')\n",
    "plt.ylabel(f'Flux')\n",
    "plt.legend()\n",
    "plt.title('Comparaison avec les étoiles de référence')"
   ]
  },
  {
   "cell_type": "markdown",
   "id": "0b4e3fe8-ddfe-4d6e-b485-020e10c0dd5d",
   "metadata": {
    "tags": []
   },
   "source": [
    "> <font color='blue'> Répondre ici :  \n",
    "\n",
    "    \n",
    "| Etoile                         | Tsih    | Sirius | Capella | Aldébaran | Bételgeuse |\n",
    "| ---                            | ---     | ---    | ---     | ---       | ---        |\n",
    "| $\\lambda _{max}$ (nm)          |         |        |         |           |            |\n",
    "| $T _{Wien}$ (K)                |         |        |         |           |            |\n",
    "| Type de spectre                |         |        |         |           |            |\n",
    "| Type de spectre (comparaison)  |         |        |         |           |            |\n",
    "| $T_{est}$ (K)                   |         |        |         |           |            |\n",
    "\n",
    "    "
   ]
  },
  {
   "cell_type": "markdown",
   "id": "3f524c90-b682-4dce-af5c-1cf9ac0b58cd",
   "metadata": {
    "tags": []
   },
   "source": [
    "## **4 - Comparaison des spectres de Vénus, Mars, Uranus et Jupiter**"
   ]
  },
  {
   "cell_type": "markdown",
   "id": "13915b6e-9912-4049-8886-2cb552116f70",
   "metadata": {},
   "source": [
    "Vous allez utiliser des observations de Vénus, Mars, Jupiter et Uranus contenues dans le dossier \"Donnees\" pour comparer les albédos de ces planètes. L'albédo est le pouvoir réfléchissant d'une surface, soit le rapport de l'énergie lumineuse réfléchie à l'énergie lumineuse incidente. C'est une grandeur sans dimension.\n",
    "\n",
    "Pour aller plus vite, vous n'utiliserez qu'une seule image pour chaque planète si la qualité des données est suffisante. Vous n'oublierez pas d'y soustraire le DARK correspondant et de diviser par le MASTER FLAT que vous avez déjà calculé dans la partie précédente.\n",
    "\n",
    "Le spectre de Jupiter est dans le répertoire Jupiter_soleil dans lequel vous trouverez également un spectre du Soleil. **Ces deux spectres sont déjà traités** (soustraction d'un MASTER DARK et division par un MASTER FLAT)."
   ]
  },
  {
   "cell_type": "markdown",
   "id": "8841394d-9798-4674-844c-6228259ed53f",
   "metadata": {
    "tags": []
   },
   "source": [
    "##### **Question 8 :**\n",
    "D'ou provient la lumière que l'on reçoit des planètes ?"
   ]
  },
  {
   "cell_type": "markdown",
   "id": "48d92169-b947-427b-bc10-bb3817730176",
   "metadata": {
    "tags": []
   },
   "source": [
    "> <font color='blue'> Répondre ici : "
   ]
  },
  {
   "cell_type": "markdown",
   "id": "3a7dea47-44b2-4a32-a750-3dce45fb8df1",
   "metadata": {
    "tags": []
   },
   "source": [
    "##### **Question 9 :**\n",
    "Que proposez-vous pour estimer l'albédo de ces planètes ? L'albédo calculé ne peut l'être qu'à un coeffcient multiplicatif près dans notre cas. Pourquoi ?"
   ]
  },
  {
   "cell_type": "markdown",
   "id": "06c212df-e709-4ac2-8176-65e2a44b9134",
   "metadata": {
    "tags": []
   },
   "source": [
    "> <font color='blue'> Répondre ici : "
   ]
  },
  {
   "cell_type": "markdown",
   "id": "f5e60045-37d2-4973-8cc1-a9c92f9dffd1",
   "metadata": {
    "tags": []
   },
   "source": [
    "##### **Question 10 :**\n",
    "On rappelle que tout les fichiers fits ont été chargés dans le tableau *donnees*, et sont donc accessibles via la commande *donnees[\"nom_du_fichier.fits\"]* (en ajoutant un *.data* en fin de ligne pour accèder aux données).\n",
    "\n",
    "Le code ci-dessous est déjà complet et permet de charger le spectre du Soleil dans une variable *soleil_final* et de calculer l'albedo de jupiter dans une variable *jupiter_albedo*. Executez simplement la cellule ci-dessous :"
   ]
  },
  {
   "cell_type": "code",
   "execution_count": null,
   "id": "ec287bcc-eb8e-4d0e-a30d-2bb82cee9c84",
   "metadata": {},
   "outputs": [],
   "source": [
    "# chargement des spectres de Jupiter et du Soleil (code déjà complet)\n",
    "jupiter_fits = fits.open('./Data_TP_CPES2/Jupiter_soleil/Spectre_jupiter.fits')[0]\n",
    "soleil_fits  = fits.open('./Data_TP_CPES2/Jupiter_soleil/Spectre_solaire.fits')[0]\n",
    "\n",
    "jupiter_final = jupiter_fits.data\n",
    "soleil_final  = soleil_fits.data\n",
    "\n",
    "jupiter_albedo = jupiter_final / soleil_final\n",
    "jupiter_albedo = jupiter_albedo / np.mean(jupiter_albedo) # normalisation\n",
    "\n",
    "# chargement des longueurs d'ondes correspondantes :\n",
    "ref_px = jupiter_fits.header[\"CRPIX1\"] # Ref pixel nb\n",
    "lref   = jupiter_fits.header[\"CRVAL1\"] # wavelength value at ref pixel\n",
    "step   = jupiter_fits.header[\"CD1_1\"]  # step in nm btw each pixel\n",
    "nb     = jupiter_fits.header[\"NAXIS1\"] # tot nb of pixels\n",
    "lmin   = lref-ref_px*step # wavelength of first pixel\n",
    "wave_jup_sol = np.linspace(lmin,lmin+nb*step,nb)\n",
    "\n",
    "# reinterpolation des spectres de Jupiter et du Soleil sur la même échelle en longueur d'onde que les autres données\n",
    "finterp = interp1d(wave_jup_sol,jupiter_albedo,bounds_error=False,fill_value=1)\n",
    "jupiter_albedo = finterp(wave)\n",
    "\n",
    "finterp = interp1d(wave_jup_sol,soleil_final,bounds_error=False,fill_value=1)\n",
    "soleil_final = finterp(soleil_final)"
   ]
  },
  {
   "cell_type": "markdown",
   "id": "4da31705-ebaa-4c9a-9d28-14fa18fd2747",
   "metadata": {},
   "source": [
    "Complétez les cellules suivantes afin de calculer l'albédo des 4 planètes en divisant les spectres des planètes par le spectre du Soleil fourni (variable *soleil_final*) et en normalisant la moyenne de chaque albédo à 1 entre 450 et 700 nm. Observez-vous plutôt des raies atomiques fines ou des bandes d'absorption moléculaires assez élargies ? Pour quelles planètes ?"
   ]
  },
  {
   "cell_type": "code",
   "execution_count": null,
   "id": "5afb836d-6477-4623-8b4c-addd9e7b2736",
   "metadata": {},
   "outputs": [],
   "source": [
    "# CODE A COMPLETER : calcul de l'albedo de Venus, Mars et Uranus\n"
   ]
  },
  {
   "cell_type": "code",
   "execution_count": null,
   "id": "c39ed9c5-c7a7-44ae-97b3-94d2bf8d2def",
   "metadata": {},
   "outputs": [],
   "source": [
    "# CODE A COMPLETER : affichage de l'albedo des 4 planètes\n"
   ]
  },
  {
   "cell_type": "markdown",
   "id": "0b6fc421-9724-4364-bd25-856bff6c77fc",
   "metadata": {
    "tags": []
   },
   "source": [
    "> <font color='blue'> Répondre ici : "
   ]
  },
  {
   "cell_type": "markdown",
   "id": "55f25ced-9265-4c3f-9b25-7fc99b59acd0",
   "metadata": {},
   "source": [
    "<font color='red'>  **Faites valider l'allure de vos spectres par un encadrant avant de passer à la suite !!**"
   ]
  },
  {
   "cell_type": "markdown",
   "id": "4383686c-aeb5-451b-8ad7-f44fdd894667",
   "metadata": {
    "tags": []
   },
   "source": [
    "##### **Question 11 :**\n",
    "Les spectres de deux de ces planètes sont présentés sur la figure ci-dessous en comparaison de spectres de nuages et d'océan pour la Terre. À quelles planètes correspondent les planètes n°1 et n°2 de cette figure ?"
   ]
  },
  {
   "cell_type": "markdown",
   "id": "d252f276-7b2a-41a9-9dc1-1f2168af1aea",
   "metadata": {},
   "source": [
    "**Albédos de planètes.**\n",
    "\n",
    "<img src=\"./ressources/Figure_planetes_rocheuses.png\" width=\"400\" height=\"400\">"
   ]
  },
  {
   "cell_type": "markdown",
   "id": "36621d32-220d-4771-a5dd-73fd467df52a",
   "metadata": {
    "tags": []
   },
   "source": [
    "> <font color='blue'> Répondre ici : "
   ]
  },
  {
   "cell_type": "markdown",
   "id": "ab87c4f5-cbf6-495d-b189-28a0bd6c8636",
   "metadata": {
    "tags": []
   },
   "source": [
    "##### **Question 12 :**\n",
    "Dans les atmosphères des 2 planètes géantes (Uranus et Jupiter), il y a notamment du dihydrogène, de l'hélium, de l'ammoniac (NH3) et du méthane (CH4). Le code ci-dessous permet de superposer vos spectres avec les listes de raies du dossier \"Raies\". Executez la cellule, et déterminez quelles espèces parmi les 4 citées ci-dessus sont observées dans les spectres des 2 planètes géantes."
   ]
  },
  {
   "cell_type": "code",
   "execution_count": null,
   "id": "f29e1c9e-78f1-48c1-8642-fe73d3d8bfdf",
   "metadata": {},
   "outputs": [],
   "source": [
    "# lecture des listes de raies et remplissage du dictionnaire\n",
    "\n",
    "raies_list = [] # liste contenant les raies du fichier 'PSL.ids' sous la forme ['element','position']\n",
    "\n",
    "with open('./Data_TP_CPES2/Raies/CH4.ids','r') as f:\n",
    "    for line in f.readlines()[10:]:\n",
    "        # skip 10 first lines\n",
    "        try:\n",
    "            elements = line.replace('\\t',' ').replace('*','').split(' ')\n",
    "            element_name = elements[-1].replace('\\n','')\n",
    "            element_pos  = float(elements[0])\n",
    "            raies_list.append([element_name,element_pos]) \n",
    "        except Exception as e:\n",
    "            print(e)\n",
    "            \n",
    "with open('./Data_TP_CPES2/Raies/H_H2_He.ids','r') as f:\n",
    "    for line in f.readlines()[10:]:\n",
    "        # skip 10 first lines\n",
    "        try:\n",
    "            elements = line.replace('\\t',' ').replace('*','').split(' ')\n",
    "            element_name = elements[-1].replace('\\n','')\n",
    "            element_pos  = float(elements[0])/10 # conversion des Angströms en nm\n",
    "            raies_list.append([element_name,element_pos]) \n",
    "        except Exception as e:\n",
    "            print(e)\n",
    "        \n",
    "with open('./Data_TP_CPES2/Raies/NH3.ids','r') as f:\n",
    "    for line in f.readlines()[10:]:\n",
    "        # skip 10 first lines\n",
    "        try:\n",
    "            elements = line.replace('\\t',' ').replace('*','').split(' ')\n",
    "            element_name = elements[-1].replace('\\n','')\n",
    "            element_pos  = float(elements[0])\n",
    "            raies_list.append([element_name,element_pos]) \n",
    "        except Exception as e:\n",
    "            print(e)"
   ]
  },
  {
   "cell_type": "code",
   "execution_count": null,
   "id": "ac2c934a-d66f-473a-b008-6cea05191f7c",
   "metadata": {},
   "outputs": [],
   "source": [
    "# CODE A COMPLETER : affichage de vos spectres\n",
    "\n",
    "############################################################\n",
    "\n",
    "# Code déjà complet : affichage des éléments de référence\n",
    "for element,position in raies_list:\n",
    "    plt.vlines(position,5,0,color='k',lw=0.5)\n",
    "    plt.text(position,0,element,rotation=90)\n",
    "    \n",
    "plt.xlabel(f'$\\lambda$ [nm]')\n",
    "plt.ylabel('Albedo normalisé')\n",
    "plt.title('Albedo de Jupiter et Uranus')\n",
    "plt.legend()"
   ]
  },
  {
   "cell_type": "markdown",
   "id": "f98291af-c184-4bb1-8802-836e77388b44",
   "metadata": {
    "tags": []
   },
   "source": [
    "> <font color='blue'> Répondre ici : "
   ]
  },
  {
   "cell_type": "markdown",
   "id": "c933c8bd-0846-4d91-b4f3-499e84cb3126",
   "metadata": {
    "tags": []
   },
   "source": [
    "## **5 - Mesures des profils de raies stellaires**"
   ]
  },
  {
   "cell_type": "markdown",
   "id": "967907f0-bc92-44c0-b3b7-24b0842885a9",
   "metadata": {},
   "source": [
    "La forme des raies stellaires permet d'étudier les conditions de température et de pression\n",
    "dans les atmosphères stellaires. La qualité des mesures et la résolution spectroscopique est ici\n",
    "beaucoup trop faible pour faire une étude avancée. Néanmoins, il est possible de faire un certain\n",
    "nombre de remarques intéressantes.\n",
    "\n",
    "Nous allons nous focaliser sur une raie centrée autour de 650 nm visible sur les étoiles Tsih\n",
    "(25 000 K), Zeta Tau (22 000K), Sirius (9900 K), Alcyone (13 000K) et Eta Cassiopée (5700 K).\n",
    "\n",
    "La cellule suivant va charger les spectres de chaque étoile contenus dans le dossier \"Partie4-5\" dans un nouveau dictionnaire \"etoiles_part5\" et les afficher. Ces spectres ont déjà été étalonnés et sont normalisés aux mêmes flux autour de la raie intéressante."
   ]
  },
  {
   "cell_type": "code",
   "execution_count": null,
   "id": "464a86f3-2067-4fb8-ab3d-0eaedb75b555",
   "metadata": {},
   "outputs": [],
   "source": [
    "# Chargement des spectres du dossier \"Partie4-5\"\n",
    "\n",
    "# list des fichiers fits à charger\n",
    "part5_file_list = [name for name in os.listdir('./Data_TP_CPES2/Partie4-5/') if '.fits' in name]\n",
    "\n",
    "# remplissage du dictionnaire avec les fits chargés\n",
    "etoiles_part5 = {}\n",
    "for file in part5_file_list:\n",
    "    star_fits = fits.open('./Data_TP_CPES2/Partie4-5/'+file)[0]\n",
    "    etoiles_part5[file] = star_fits\n",
    "    \n",
    "# récupération de l'échelle en longueur d'onde\n",
    "ref_px = star_fits.header[\"CRPIX1\"] # Ref pixel nb\n",
    "lref   = star_fits.header[\"CRVAL1\"] # wavelength value at ref pixel\n",
    "step   = star_fits.header[\"CD1_1\"]  # step in nm btw each pixel\n",
    "nb     = star_fits.header[\"NAXIS1\"] # tot nb of pixels\n",
    "lmin   = lref-ref_px*step # wavelength of first pixel\n",
    "wave_part5 = np.linspace(lmin,lmin+nb*step,nb)\n",
    "\n",
    "# Affichage des spectres\n",
    "plt.figure()\n",
    "for star_name,star_fits in etoiles_part5.items():\n",
    "    plt.plot(wave_part5,star_fits.data,label=star_name)\n",
    "    \n",
    "plt.xlabel(f'$\\lambda$ [nm]')\n",
    "plt.ylabel('Flux')\n",
    "plt.legend()\n",
    "plt.title('Comparaison des raies')    "
   ]
  },
  {
   "cell_type": "markdown",
   "id": "9dd49ba6-5f75-4809-9cb2-ca98a556023e",
   "metadata": {},
   "source": [
    "**On accèdera donc dans toute la suite au spectre d'une étoile via la commande suivante (exemple pour Tsih) :**\n",
    "```python\n",
    "Tsih_spectra     = etoiles_part5['Tsih.fits'    ].data\n",
    "```"
   ]
  },
  {
   "cell_type": "markdown",
   "id": "c642c161-de40-44d9-9145-2ccb528b50a5",
   "metadata": {
    "tags": []
   },
   "source": [
    "##### **Question 13 :**\n",
    "À quelle longueur d'onde se situe cette raie exactement ? À quel élément cela\n",
    "correspond-il ? À quelle longueur d'onde théorique devrait se situer cette raie ?"
   ]
  },
  {
   "cell_type": "markdown",
   "id": "b4e67c6a-d917-49d5-a2b3-e563fe074fb1",
   "metadata": {
    "tags": []
   },
   "source": [
    "> <font color='blue'> Répondre ici : "
   ]
  },
  {
   "cell_type": "markdown",
   "id": "a0de98db-aee6-4e9d-aca2-162045077efa",
   "metadata": {},
   "source": [
    "Nous allons utiliser uniquement la partie du spectre située entre 645 nm et 665 nm. Pour cela, nous allons créer un **masque** avec *numpy* permettant de sélectionner les spectres uniquement dans cette région. Un masque s'applique simplement à un vecteur de données en l'ajoutant sous la forme [masque] (entre crochets) après les données, comme dans l'exemple ci-dessous :"
   ]
  },
  {
   "cell_type": "code",
   "execution_count": null,
   "id": "c752d82a-403e-4576-89ea-80b0c5c234cb",
   "metadata": {},
   "outputs": [],
   "source": [
    "masque = np.logical_and(wave_part5 > 645, wave_part5 < 665) # création du masque : permet de ne sélectionner que les données aux longueurs d'ondes entre 645 et 665nm\n",
    "\n",
    "# Affichage des spectres\n",
    "plt.figure()\n",
    "for star_name,star_fits in etoiles_part5.items():\n",
    "    # en ajoutant [masque] après le vecteur des longueurs d'ondes et des données, on ne sélectionne que les données vérifiant la condition du masque\n",
    "    plt.plot(wave_part5[masque],star_fits.data[masque],label=star_name) \n",
    "    \n",
    "plt.xlabel(f'$\\lambda$ [nm]')\n",
    "plt.ylabel('Flux')\n",
    "plt.legend()\n",
    "plt.title('Comparaison des raies entre 645 et 665nm')   "
   ]
  },
  {
   "cell_type": "markdown",
   "id": "63c852e1-2516-4746-9927-f673da57722e",
   "metadata": {},
   "source": [
    "On voit dans le graphique ci-dessus que le continuum n'est pas constant, mais penché. Pour la suite, nous aurons besoin de redresser le continuum horizontalement à 1. Pour ce faire, la cellule ci-dessous vous permet de réaliser un ajustement du continuum, c'est-à-dire de trouver une fonction (une simple droite dans le cas présent) dont la forme se rapproche raisonnablement du continuum afin de le ramener à 1 par une division. **Executez simplement la cellule sans la modifier.**"
   ]
  },
  {
   "cell_type": "code",
   "execution_count": null,
   "id": "b2bb510d-f927-4b8d-813f-3042eefde99b",
   "metadata": {
    "tags": []
   },
   "outputs": [],
   "source": [
    "# Affichage des spectres\n",
    "fig = plt.figure()\n",
    "for star_name,star_fits in etoiles_part5.items():\n",
    "    # en ajoutant [masque] après le vecteur des longueurs d'ondes et des données, on ne sélectionne que les données vérifiant la condition du masque\n",
    "    plt.plot(wave_part5[masque],star_fits.data[masque],label=star_name) \n",
    "    \n",
    "plt.xlabel(f'$\\lambda$ [nm]')\n",
    "plt.ylabel('Flux')\n",
    "plt.legend()\n",
    "plt.title('Comparaison des raies entre 645 et 665nm')\n",
    "\n",
    "# coordonnées des 2 points\n",
    "X1 = None\n",
    "X2 = None\n",
    "continuum_fit = None\n",
    "\n",
    "# fonctions gérant l'évenement 'button_click'\n",
    "def firstclick(event):\n",
    "    global fig, cid, X1\n",
    "    # get the coordinate\n",
    "    X1 = [event.xdata, event.ydata]\n",
    "    fig.canvas.draw()\n",
    "    fig.canvas.flush_events()\n",
    "    # add a \"+\" on the position\n",
    "    plt.plot(X1[0],X1[1],'k+',markersize=15)\n",
    "    # Bind the button_press_event with the secondclick() method\n",
    "    fig.canvas.mpl_disconnect(cid)\n",
    "    cid = fig.canvas.mpl_connect('button_press_event', secondclick )\n",
    "\n",
    "def secondclick(event):\n",
    "    global fig, cid, X2, continuum_fit, wave_part5, masque\n",
    "    # get the coordinate\n",
    "    X2 = [event.xdata, event.ydata]\n",
    "    # add a \"+\" on the position\n",
    "    plt.plot(X2[0],X2[1],'k+',markersize=15)\n",
    "    # compute and plot the fit\n",
    "    f = interp1d([X1[0],X2[0]],[X1[1],X2[1]], bounds_error=False,fill_value='extrapolate')\n",
    "    continuum_fit = f(wave_part5)[masque]\n",
    "    plt.plot(wave_part5[masque],continuum_fit,'k-',label='Continuum fit')\n",
    "    plt.legend()\n",
    "    fig.canvas.draw()\n",
    "    fig.canvas.flush_events()\n",
    "    # Empty the event connection\n",
    "    fig.canvas.mpl_disconnect(cid)\n",
    "    \n",
    "    \n",
    "# Bind the button_press_event with the firstclick() method. cid is the id of the connection, usefull for deconnecting purpose\n",
    "cid = fig.canvas.mpl_connect('button_press_event', firstclick )\n"
   ]
  },
  {
   "cell_type": "markdown",
   "id": "5904bd40-f365-4509-b9dc-383389d189ca",
   "metadata": {},
   "source": [
    "**Dans la figure ci-dessus,** cliquez sur les deux extremités du continuum. Vous verrez alors apparaître une droite reliant ces deux points : il s'agit du fit de votre continuum.\n",
    "\n",
    "**Remarque :** vous pouvez relancer la cellule au dessus de la figure pour recommencer la sélection avec deux nouveaux points et refaire votre fit en cas de fausse manip."
   ]
  },
  {
   "cell_type": "markdown",
   "id": "ce25a3da-b8b5-4b97-afc3-52b3d1486c25",
   "metadata": {},
   "source": [
    "Nous avons maintenant un fit linéaire représentant de façon satisfaisante le continuum entre 645 et 665nm.<br> **Complétez le code ci-dessous pour diviser chaque spectre par ce fit linéaire afin de ramener le continuum à 1 et affichez le résultat :**"
   ]
  },
  {
   "cell_type": "code",
   "execution_count": null,
   "id": "0c64137c-6666-4577-80d3-7091a7d3e773",
   "metadata": {},
   "outputs": [],
   "source": [
    "# CODE A COMPLETER\n"
   ]
  },
  {
   "cell_type": "markdown",
   "id": "4206a520-2ef5-4309-9745-d22592df6d5c",
   "metadata": {},
   "source": [
    "Notre objectif est de trouver, pour chaque raie, si la forme de celle-ci se rapproche plus d'une gaussienne ou d'une lorentzienne, afin d'en déduire des propriétées physiques sur l'hydrogène dans ces étoiles. Pour cela, nous devons ramener notre continuum à 0 et ramener à 1 le maximum des raies en émission et à -1 le minimum des raies en absorption. Ceci nous permettra de comparer directement la forme des raies entre elles."
   ]
  },
  {
   "cell_type": "markdown",
   "id": "57f93702-60f0-4904-a32e-a707fb3affba",
   "metadata": {},
   "source": [
    "Pour ce faire, nous allons d'abord soustraire 1 à nos courbes afin de ramener le continuum à 0 :"
   ]
  },
  {
   "cell_type": "code",
   "execution_count": null,
   "id": "6cbf939b-5cc7-4098-ab10-f4da0ec573ea",
   "metadata": {},
   "outputs": [],
   "source": [
    "# Division du spectre par le maximum/minimum de la raie :\n",
    "Zeta_Tau_spectra = Zeta_Tau_spectra - 1\n",
    "Tsih_spectra     = Tsih_spectra     - 1\n",
    "Sirius_spectra   = Sirius_spectra   - 1 \n",
    "Alcyone_spectra  = Alcyone_spectra  - 1\n",
    "Eta_Cas_spectra  = Eta_Cas_spectra  - 1 \n",
    "######################################################\n",
    "\n",
    "# Affichage\n",
    "plt.figure()\n",
    "plt.plot(wave_part5[masque],Zeta_Tau_spectra,label='Zeta_Tau')\n",
    "plt.plot(wave_part5[masque],Sirius_spectra,label='Sirius')\n",
    "plt.plot(wave_part5[masque],Alcyone_spectra,label='Alcyone')\n",
    "plt.plot(wave_part5[masque],Eta_Cas_spectra,label='Eta_Cas')\n",
    "plt.plot(wave_part5[masque],Tsih_spectra,label='Tsih')\n",
    "plt.xlabel(f'$\\lambda$')\n",
    "plt.ylabel('Flux')\n",
    "plt.legend()"
   ]
  },
  {
   "cell_type": "markdown",
   "id": "e29f8953-df8e-4cc6-a2fd-13c4141df665",
   "metadata": {},
   "source": [
    "Nous divisons ensuite chaque courbe par le maximum de sa valeur absolue, ce qui permet d'obtenir des raies dont le maximum est à 1 pour les raies en émission et à -1 pour les raies en absorption.\n",
    "\n",
    "**Complétez le code ci-dessous afin que chaque raie ait son maximum/minimum à 1 ou -1 et affichez le résultat :**"
   ]
  },
  {
   "cell_type": "code",
   "execution_count": null,
   "id": "981d959f-7fa6-4692-849f-a8092d779b3d",
   "metadata": {},
   "outputs": [],
   "source": [
    "# CODE A COMPLETER\n"
   ]
  },
  {
   "cell_type": "markdown",
   "id": "e5e8bccf-4553-4682-8d7d-da199918ffa1",
   "metadata": {},
   "source": [
    "<font color='red'>  **Faites valider l'allure de vos spectres par un encadrant avant de passer à la suite !!**"
   ]
  },
  {
   "cell_type": "markdown",
   "id": "e1b4ae1a-b952-4648-bdc1-f41f4225cee7",
   "metadata": {
    "tags": []
   },
   "source": [
    "##### **Question 14 :**\n",
    "Comparez la forme des 2 raies en absorption. Ont-elles la même largeur à mi-hauteur ?"
   ]
  },
  {
   "cell_type": "markdown",
   "id": "33446a6e-6c4d-45a0-be0a-6268ea1ff74a",
   "metadata": {
    "tags": []
   },
   "source": [
    "> <font color='blue'> Répondre ici : "
   ]
  },
  {
   "cell_type": "markdown",
   "id": "375c57e6-d441-49e2-9a6b-c4f601a74104",
   "metadata": {
    "tags": []
   },
   "source": [
    "##### **Question 15 :**\n",
    "Le code ci-dessous va nous permettre d'ajuster chaque raie avec un profil gaussien et un profil lorentzien : executez la cellule ci-dessous sans la modifier. "
   ]
  },
  {
   "cell_type": "code",
   "execution_count": null,
   "id": "b610971a-6adc-4da9-9f19-e5847b233ce9",
   "metadata": {},
   "outputs": [],
   "source": [
    "# Définition du modèle gaussien :\n",
    "def gauss(x, *p):\n",
    "    A, mu, sigma = p\n",
    "    return A*np.exp(-(x-mu)**2/(2.*sigma**2))\n",
    "\n",
    "# Défintion du modèle Lorentzien :\n",
    "def lorentzian(x, *p):\n",
    "    A, mu, gam = p\n",
    "    return (A/np.pi) * (gam/2) / ( (gam/2)**2 + ( x - mu )**2)\n",
    "\n",
    "\n",
    "class do_fit:\n",
    "    \n",
    "    def __init__(self,xdata,ydata,name):\n",
    "        self.xdata = np.copy(xdata)\n",
    "        self.ydata = np.copy(ydata)\n",
    "        self.name  = name\n",
    "\n",
    "        # Affichage du spectre\n",
    "        fig = plt.figure()\n",
    "\n",
    "        plt.plot(xdata,ydata,label=name)    \n",
    "        plt.xlabel(f'$\\lambda$ [nm]')\n",
    "        plt.ylabel('Flux')\n",
    "        plt.legend()\n",
    "\n",
    "        self.titles = [\n",
    "        'Cliquez sur le continuum : gauche',\n",
    "        'Cliquez sur le continuum : droite',\n",
    "        'Cliquez sur la raie à mi-hauteur : gauche',\n",
    "        'Cliquez sur la raie à mi-hauteur : droite',\n",
    "        'Cliquez sur le max/min de la raie',\n",
    "        name]\n",
    "        \n",
    "        # coordonnées des 5 points\n",
    "        self.X = []\n",
    "        self.k = 0\n",
    "        plt.title(self.titles[self.k])\n",
    "        \n",
    "        # Bind the button_press_event with the firstclick() method. cid is the id of the connection, usefull for deconnecting purpose\n",
    "        self.cid = fig.canvas.mpl_connect('button_press_event', self.click )\n",
    "        \n",
    "    # fonctions gérant l'évenement 'button_click'\n",
    "    def click(self,event):\n",
    "        # get the coordinate\n",
    "        self.k+=1      \n",
    "        plt.title(self.titles[self.k])  \n",
    "        self.X.append([event.xdata, event.ydata])\n",
    "        fig.canvas.draw()\n",
    "        fig.canvas.flush_events()\n",
    "        # add a \"+\" on the position\n",
    "        plt.plot(self.X[-1][0],self.X[-1][1],'k+',markersize=15)\n",
    "          \n",
    "        # Disconnect event and plot the Gaussian fit when 5 points have been selected\n",
    "        if len(self.X)>=5:\n",
    "            fig.canvas.mpl_disconnect(self.cid)\n",
    "            # re-normalise continuum of the specific line\n",
    "            f = interp1d([self.X[0][0],self.X[1][0]],[self.X[0][1],self.X[1][1]], bounds_error=False,fill_value='extrapolate')\n",
    "            continuum_fit = f(self.xdata)+1\n",
    "            \n",
    "            self.ydata = ((self.ydata+1) / continuum_fit) - 1\n",
    "            # compute sigma using FWHM\n",
    "            self.fwhm = np.abs(self.X[2][0] - self.X[3][0])\n",
    "            self.sigma = self.fwhm / 2.355\n",
    "            # get the mu value (center of gaussian)\n",
    "            self.mu = self.X[4][0]\n",
    "            # get the amplitude\n",
    "            self.A  = self.X[4][1]\n",
    "            \n",
    "            # replot figure\n",
    "            plt.clf()\n",
    "            plt.plot(self.xdata,self.ydata,label=self.name)\n",
    "            \n",
    "            # use scipy for gaussian fit\n",
    "            self.coeff_G, self.var_matrix_G = curve_fit(gauss, self.xdata, self.ydata, p0=[self.A,self.mu,self.sigma])\n",
    "            # plot the gaussian fit\n",
    "            plt.plot(self.xdata,gauss(self.xdata,*self.coeff_G),'r--',label=f'Gaussian fit : FWHM={self.coeff_G[-1]*2.355:.2f}')\n",
    "\n",
    "            # use scipy for lorentz fit\n",
    "            self.coeff_L, self.var_matrix_L = curve_fit(lorentzian, self.xdata, self.ydata, p0=[self.A,self.mu,self.fwhm])\n",
    "            # plot the gaussian fit\n",
    "            plt.plot(self.xdata,lorentzian(self.xdata,*self.coeff_L),'g--',label=f'Lorentzian fit : FWHM = {self.coeff_L[-1]:.2f}')\n",
    "\n",
    "            plt.legend()\n",
    "            fig.canvas.draw()\n",
    "            fig.canvas.flush_events()\n",
    "            \n"
   ]
  },
  {
   "cell_type": "markdown",
   "id": "3aa56846-b82f-43da-8b0e-db9688b2c57d",
   "metadata": {},
   "source": [
    "Grâce à la cellule ci-dessus, nous avons maintenant une fonction \"do_fit()\" permettant d'ajuster une Gaussienne et une Lorentzienne sur un spectre. Pour cela, il suffit d'appeler la fonction avec comme argument le spectre ainsi que le nom de l'étoile. En lançant la fonction, on obtient une figure sur laquelle il faut cliquer en 5 points dans l'ordre suivant :\n",
    "\n",
    "- 1er point : sur le continuum à gauche\n",
    "- 2nd point : sur le continuum à droite\n",
    "- 3e  point : sur la raie, à mi-hauteur, à gauche\n",
    "- 4e  point : sur la raie, à mi-hauteur, à droite\n",
    "- 5e  point : sur le maximum/minimum de la raie en émission/absorption\n",
    "\n",
    "**Pour chacune des cellules ci-dessous : executez la cellule, et cliquez sur la figure afin d'indiquer à la fonction les 5 points à prendre en compte pour le fit. Veillez à bien respecter l'ordre de sélection de ces 5 points !**"
   ]
  },
  {
   "cell_type": "code",
   "execution_count": null,
   "id": "00a3d10c-2d00-43ac-89b2-9ec3c79a4d54",
   "metadata": {},
   "outputs": [],
   "source": [
    "Sirius_fit = do_fit(wave_part5[masque],Sirius_spectra,\"Sirius\")"
   ]
  },
  {
   "cell_type": "code",
   "execution_count": null,
   "id": "136ca4f8-d133-482c-b786-c2e240a9972a",
   "metadata": {},
   "outputs": [],
   "source": [
    "Eta_Cas_fit = do_fit(wave_part5[masque],Eta_Cas_spectra,\"Eta Cas\")"
   ]
  },
  {
   "cell_type": "markdown",
   "id": "dd7406c8-4525-4f74-9fba-75afbc17df0b",
   "metadata": {},
   "source": [
    "Ces deux raies en absorption ont elles un profil de type Lorentzien ? Gaussien ? Quelle est la largeur à mi-hauteur estimée par la fonction (FWHM, dans la légende de la figure) ?"
   ]
  },
  {
   "cell_type": "markdown",
   "id": "1307d662-f8c0-4556-b683-58113eb3558c",
   "metadata": {
    "tags": []
   },
   "source": [
    "> <font color='blue'> Répondre ici :"
   ]
  },
  {
   "cell_type": "markdown",
   "id": "2b0158e2-8237-4610-99d8-d3b599d6f28e",
   "metadata": {
    "tags": []
   },
   "source": [
    "##### **Question 16 :**\n",
    "Le profil Lorentzien d'une raie provient des effets de collisions des atomes dans l'atmosphère de l'étoile. Le profil Lorentzien s'élargit à mesure qu'il y a plus de collisions. Ces collisions sont générées par une augmentation de la température. Cela est-il cohérent avec ce que vous observez ?"
   ]
  },
  {
   "cell_type": "markdown",
   "id": "916a86f1-a225-49ce-b90d-c25892a177f4",
   "metadata": {
    "tags": []
   },
   "source": [
    "> <font color='blue'> Répondre ici : "
   ]
  },
  {
   "cell_type": "markdown",
   "id": "a0aaa72a-33a2-47e4-9ae4-a0cd90099ae3",
   "metadata": {
    "tags": []
   },
   "source": [
    "## **6 - Les étoiles de type Be ou étoile B à raie d'émission**"
   ]
  },
  {
   "cell_type": "markdown",
   "id": "1dab2c11-79d4-46f2-b12d-a227c9c628fc",
   "metadata": {},
   "source": [
    "Les étoiles Be sont des étoiles de type B - donc chaudes (température de 10000 à 30000K)\n",
    "dont le spectre a montré au moins une fois une raie en émission, généralement une raie de Balmer.\n",
    "Ces raies en émission peuvent se présenter sous différentes formes. Elles proviennent d'un disque\n",
    "équatorial dont l'émission s'ajoute au spectre d'absorption de la photosphère de l'étoile.\n",
    "L'étoile centrale de type B émet notamment dans l'Ultra-Violet et ionise ce disque qui ré-\n",
    "émet l'énergie à de plus grandes longueurs d'onde comme dans le domaine visible. La même étoile\n",
    "Be peut avoir un profil spectral variable selon l'angle d'observation de ce disque (Figure 6). Ces\n",
    "émissions peuvent être accompagnées d'un décalage doppler des raies d'émission vers le bleu pour\n",
    "la partie du disque qui se rapproche de nous et vers le rouge pour la partie qui s'éloigne de nous\n",
    "(cf Figure 7)."
   ]
  },
  {
   "cell_type": "markdown",
   "id": "b75ca515-8b5f-459b-901c-e778711e9843",
   "metadata": {},
   "source": [
    "**Figure 6 - Modèle d'une étoile Be classique montrant le type de spectre observé en fonction de l'orientation selon laquelle l'observateur voit le disque d'émission (Kogure & Hirata, 1982).**\n",
    "\n",
    "![alt text](ressources/Be_figure1.png \"Be_figure1\")\n"
   ]
  },
  {
   "cell_type": "markdown",
   "id": "cae8f1ed-b3a1-41f2-9c36-d9c8d270cdd5",
   "metadata": {},
   "source": [
    "**Figure 7 - Modèle d'une étoile Be classique montrant le décalage des raies d'émission de chaque partie du disque observé.**\n",
    "\n",
    "![alt text](ressources/Be_figure2.png \"Be_figure1\")\n"
   ]
  },
  {
   "cell_type": "markdown",
   "id": "d48f093b-8ac5-4ac2-a709-17017bcb25d5",
   "metadata": {
    "tags": []
   },
   "source": [
    "##### **Question 17 :**\n",
    "Quelles sont les trois étoiles parmi Tsih, Zeta Tau, Sirius, Eta Cassiopée et Alcyone qui correspondent à la définition d'une étoile Be ? Vu la forme des raies et en vous aidant\n",
    "de la Figure 6, pouvez-vous estimer l'orientation dans laquelle nous voyons chacune de ces trois étoiles ?"
   ]
  },
  {
   "cell_type": "markdown",
   "id": "90eb72f7-f13a-42c9-96fa-edad5c46bc11",
   "metadata": {
    "tags": []
   },
   "source": [
    "> <font color='blue'> Répondre ici : "
   ]
  },
  {
   "cell_type": "markdown",
   "id": "dc6e8f80-681d-40b9-bea0-83d46d5eac95",
   "metadata": {
    "tags": []
   },
   "source": [
    "##### **Question 18 :**\n",
    "L'une de ces étoiles montre clairement une raie déformée et assez élargie. En comparant la largeur à mi-hauteur de cette raie avec la largeur à mi-hauteur de la raie la plus\n",
    "fine, estimez l'élargissement de la raie en nm. Vous pourrez vous aider de la fonction \"do_fit\" pour mesurer plus précisément la largeur à mi-hauteur de chaque raie."
   ]
  },
  {
   "cell_type": "code",
   "execution_count": null,
   "id": "f5354790-86d1-44c3-83b7-e110601f88f8",
   "metadata": {},
   "outputs": [],
   "source": [
    "# Code à compléter\n"
   ]
  },
  {
   "cell_type": "code",
   "execution_count": null,
   "id": "4cd77ed1-3065-4a35-aeeb-eefddd1b2226",
   "metadata": {},
   "outputs": [],
   "source": [
    "# Code à compléter\n"
   ]
  },
  {
   "cell_type": "markdown",
   "id": "d6ae593d-a941-409d-9ada-da2424af0b66",
   "metadata": {
    "tags": []
   },
   "source": [
    "> <font color='blue'> Répondre ici : "
   ]
  },
  {
   "cell_type": "markdown",
   "id": "24c12ff5-4b43-4791-a9fa-1781a289a941",
   "metadata": {
    "tags": []
   },
   "source": [
    "##### **Question 19 :**\n",
    "En vous rappelant que le décalage Doppler (pour des vitesses v beaucoup plus petites que la vitesse de la lumière c ) s'écrit ∆λ = λv/c , déduisez la vitesse maximale sur les\n",
    "bords du disque d'émission."
   ]
  },
  {
   "cell_type": "markdown",
   "id": "bd1857e8-dfc3-479b-a8a2-290b93f632e9",
   "metadata": {
    "tags": []
   },
   "source": [
    "> <font color='blue'> Répondre ici : "
   ]
  },
  {
   "cell_type": "markdown",
   "id": "3155ef6c-6777-43a6-ac96-a2926c45cb81",
   "metadata": {},
   "source": [
    "### **Conclusion :**"
   ]
  },
  {
   "cell_type": "markdown",
   "id": "8d12c4e7-2f27-4c0f-8306-197b4e7b58de",
   "metadata": {},
   "source": [
    "A compléter"
   ]
  },
  {
   "cell_type": "markdown",
   "id": "5aec03e4-7ea1-43a7-9c54-7167b1a2134e",
   "metadata": {},
   "source": [
    "***"
   ]
  }
 ],
 "metadata": {
  "kernelspec": {
   "display_name": "Python 3 (ipykernel)",
   "language": "python",
   "name": "python3"
  },
  "language_info": {
   "codemirror_mode": {
    "name": "ipython",
    "version": 3
   },
   "file_extension": ".py",
   "mimetype": "text/x-python",
   "name": "python",
   "nbconvert_exporter": "python",
   "pygments_lexer": "ipython3",
   "version": "3.9.7"
  }
 },
 "nbformat": 4,
 "nbformat_minor": 5
}
